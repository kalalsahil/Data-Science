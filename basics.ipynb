{
 "cells": [
  {
   "cell_type": "markdown",
   "id": "e354e40f",
   "metadata": {},
   "source": [
    "# Hello World"
   ]
  },
  {
   "cell_type": "code",
   "execution_count": 1,
   "id": "a28f8ae6",
   "metadata": {},
   "outputs": [
    {
     "name": "stdout",
     "output_type": "stream",
     "text": [
      "Hello World!\n"
     ]
    }
   ],
   "source": [
    "print(\"Hello World!\")"
   ]
  },
  {
   "cell_type": "code",
   "execution_count": 2,
   "id": "a2317998",
   "metadata": {},
   "outputs": [
    {
     "data": {
      "text/plain": [
       "'Hello World!'"
      ]
     },
     "execution_count": 2,
     "metadata": {},
     "output_type": "execute_result"
    }
   ],
   "source": [
    "\"Hello World!\""
   ]
  },
  {
   "cell_type": "code",
   "execution_count": 3,
   "id": "41cc9e14",
   "metadata": {},
   "outputs": [
    {
     "name": "stdout",
     "output_type": "stream",
     "text": [
      "Sahil\n"
     ]
    }
   ],
   "source": [
    "# printing my name\n",
    "print(\"Sahil\")"
   ]
  },
  {
   "cell_type": "markdown",
   "id": "0865f313",
   "metadata": {},
   "source": [
    "# Data Types"
   ]
  },
  {
   "cell_type": "code",
   "execution_count": 4,
   "id": "644cb03b",
   "metadata": {},
   "outputs": [
    {
     "data": {
      "text/plain": [
       "float"
      ]
     },
     "execution_count": 4,
     "metadata": {},
     "output_type": "execute_result"
    }
   ],
   "source": [
    "type(2.4)"
   ]
  },
  {
   "cell_type": "code",
   "execution_count": 5,
   "id": "89d24152",
   "metadata": {},
   "outputs": [
    {
     "data": {
      "text/plain": [
       "3"
      ]
     },
     "execution_count": 5,
     "metadata": {},
     "output_type": "execute_result"
    }
   ],
   "source": [
    "1+2"
   ]
  },
  {
   "cell_type": "code",
   "execution_count": 6,
   "id": "2528b759",
   "metadata": {},
   "outputs": [
    {
     "data": {
      "text/plain": [
       "3"
      ]
     },
     "execution_count": 6,
     "metadata": {},
     "output_type": "execute_result"
    }
   ],
   "source": [
    "4-1"
   ]
  },
  {
   "cell_type": "code",
   "execution_count": 7,
   "id": "85090982",
   "metadata": {},
   "outputs": [
    {
     "data": {
      "text/plain": [
       "bool"
      ]
     },
     "execution_count": 7,
     "metadata": {},
     "output_type": "execute_result"
    }
   ],
   "source": [
    "type(True)"
   ]
  },
  {
   "cell_type": "code",
   "execution_count": 8,
   "id": "f83ed14e",
   "metadata": {},
   "outputs": [
    {
     "data": {
      "text/plain": [
       "bool"
      ]
     },
     "execution_count": 8,
     "metadata": {},
     "output_type": "execute_result"
    }
   ],
   "source": [
    "type(False)"
   ]
  },
  {
   "cell_type": "code",
   "execution_count": 9,
   "id": "afb0eb67",
   "metadata": {},
   "outputs": [
    {
     "data": {
      "text/plain": [
       "str"
      ]
     },
     "execution_count": 9,
     "metadata": {},
     "output_type": "execute_result"
    }
   ],
   "source": [
    "type(\"Sahil\")"
   ]
  },
  {
   "cell_type": "code",
   "execution_count": 10,
   "id": "9e7d4b93",
   "metadata": {},
   "outputs": [
    {
     "data": {
      "text/plain": [
       "'SAHIL'"
      ]
     },
     "execution_count": 10,
     "metadata": {},
     "output_type": "execute_result"
    }
   ],
   "source": [
    "\"sahil\".upper()"
   ]
  },
  {
   "cell_type": "code",
   "execution_count": 12,
   "id": "89e614ec",
   "metadata": {},
   "outputs": [
    {
     "data": {
      "text/plain": [
       "'sahil'"
      ]
     },
     "execution_count": 12,
     "metadata": {},
     "output_type": "execute_result"
    }
   ],
   "source": [
    "\"Sahil\".lower()"
   ]
  },
  {
   "cell_type": "code",
   "execution_count": 13,
   "id": "40a783bd",
   "metadata": {},
   "outputs": [
    {
     "data": {
      "text/plain": [
       "'Sahil'"
      ]
     },
     "execution_count": 13,
     "metadata": {},
     "output_type": "execute_result"
    }
   ],
   "source": [
    "\"sahil\".title()"
   ]
  },
  {
   "cell_type": "code",
   "execution_count": 14,
   "id": "440ffda9",
   "metadata": {},
   "outputs": [
    {
     "data": {
      "text/plain": [
       "1"
      ]
     },
     "execution_count": 14,
     "metadata": {},
     "output_type": "execute_result"
    }
   ],
   "source": [
    "\"sahil\".count('l')"
   ]
  },
  {
   "cell_type": "code",
   "execution_count": 15,
   "id": "5f16670d",
   "metadata": {},
   "outputs": [
    {
     "data": {
      "text/plain": [
       "'sahir'"
      ]
     },
     "execution_count": 15,
     "metadata": {},
     "output_type": "execute_result"
    }
   ],
   "source": [
    "\"sahil\".replace('l','r')"
   ]
  },
  {
   "cell_type": "markdown",
   "id": "b43a5329",
   "metadata": {},
   "source": [
    "# Variables"
   ]
  },
  {
   "cell_type": "code",
   "execution_count": 16,
   "id": "3a4c87ec",
   "metadata": {},
   "outputs": [],
   "source": [
    "message_1 = \"I am learning Python\""
   ]
  },
  {
   "cell_type": "code",
   "execution_count": 17,
   "id": "6fc44976",
   "metadata": {},
   "outputs": [
    {
     "data": {
      "text/plain": [
       "'I am learning Python'"
      ]
     },
     "execution_count": 17,
     "metadata": {},
     "output_type": "execute_result"
    }
   ],
   "source": [
    "message_1"
   ]
  },
  {
   "cell_type": "code",
   "execution_count": 18,
   "id": "f4923b84",
   "metadata": {},
   "outputs": [],
   "source": [
    "message_2 = \"and it's fun!\""
   ]
  },
  {
   "cell_type": "code",
   "execution_count": 19,
   "id": "864153b3",
   "metadata": {},
   "outputs": [
    {
     "data": {
      "text/plain": [
       "\"and it's fun!\""
      ]
     },
     "execution_count": 19,
     "metadata": {},
     "output_type": "execute_result"
    }
   ],
   "source": [
    "message_2"
   ]
  },
  {
   "cell_type": "code",
   "execution_count": 20,
   "id": "7de9925e",
   "metadata": {},
   "outputs": [
    {
     "data": {
      "text/plain": [
       "\"I am learning Pythonand it's fun!\""
      ]
     },
     "execution_count": 20,
     "metadata": {},
     "output_type": "execute_result"
    }
   ],
   "source": [
    "message_1 + message_2"
   ]
  },
  {
   "cell_type": "code",
   "execution_count": 22,
   "id": "47ef5c32",
   "metadata": {},
   "outputs": [
    {
     "data": {
      "text/plain": [
       "\"I am learning Python and it's fun!\""
      ]
     },
     "execution_count": 22,
     "metadata": {},
     "output_type": "execute_result"
    }
   ],
   "source": [
    "message = message_1 + ' ' + message_2\n",
    "message"
   ]
  },
  {
   "cell_type": "code",
   "execution_count": 24,
   "id": "7ec09647",
   "metadata": {},
   "outputs": [
    {
     "data": {
      "text/plain": [
       "\"I am learning Python and it's fun!\""
      ]
     },
     "execution_count": 24,
     "metadata": {},
     "output_type": "execute_result"
    }
   ],
   "source": [
    "f'{message_1} {message_2}'"
   ]
  },
  {
   "cell_type": "markdown",
   "id": "0c5a02d0",
   "metadata": {},
   "source": [
    "# List"
   ]
  },
  {
   "cell_type": "code",
   "execution_count": 25,
   "id": "ebe6cd1c",
   "metadata": {},
   "outputs": [],
   "source": [
    "countries = ['United States', 'India', 'China', 'Brazil']"
   ]
  },
  {
   "cell_type": "code",
   "execution_count": 26,
   "id": "a3cf501c",
   "metadata": {},
   "outputs": [
    {
     "data": {
      "text/plain": [
       "['United States', 'India', 'China', 'Brazil']"
      ]
     },
     "execution_count": 26,
     "metadata": {},
     "output_type": "execute_result"
    }
   ],
   "source": [
    "countries"
   ]
  },
  {
   "cell_type": "markdown",
   "id": "71a107d7",
   "metadata": {},
   "source": [
    "List can different data types and duplicate elements"
   ]
  },
  {
   "cell_type": "code",
   "execution_count": 27,
   "id": "bdb11326",
   "metadata": {},
   "outputs": [],
   "source": [
    "countries = ['United States', 'India', 'India', 'China', 'Brazil']"
   ]
  },
  {
   "cell_type": "code",
   "execution_count": 28,
   "id": "21f004b7",
   "metadata": {},
   "outputs": [
    {
     "data": {
      "text/plain": [
       "['United States', 'India', 'India', 'China', 'Brazil']"
      ]
     },
     "execution_count": 28,
     "metadata": {},
     "output_type": "execute_result"
    }
   ],
   "source": [
    "countries"
   ]
  },
  {
   "cell_type": "code",
   "execution_count": 29,
   "id": "26b83efa",
   "metadata": {},
   "outputs": [],
   "source": [
    "countries = ['United States', 'India', 'China', 'Brazil']"
   ]
  },
  {
   "cell_type": "markdown",
   "id": "9b162daf",
   "metadata": {},
   "source": [
    "List uses 0 based indexing"
   ]
  },
  {
   "cell_type": "code",
   "execution_count": 32,
   "id": "06eb73c0",
   "metadata": {},
   "outputs": [
    {
     "name": "stdout",
     "output_type": "stream",
     "text": [
      "United States\n",
      "India\n",
      "China\n",
      "Brazil\n"
     ]
    }
   ],
   "source": [
    "print(countries[0])\n",
    "print(countries[1])\n",
    "print(countries[2])\n",
    "print(countries[3])"
   ]
  },
  {
   "cell_type": "markdown",
   "id": "b6fd9f5c",
   "metadata": {},
   "source": [
    "**Negative indexing**"
   ]
  },
  {
   "cell_type": "code",
   "execution_count": 33,
   "id": "ed33079d",
   "metadata": {},
   "outputs": [
    {
     "name": "stdout",
     "output_type": "stream",
     "text": [
      "Brazil\n",
      "China\n",
      "India\n",
      "United States\n"
     ]
    }
   ],
   "source": [
    "print(countries[-1])\n",
    "print(countries[-2])\n",
    "print(countries[-3])\n",
    "print(countries[-4])"
   ]
  },
  {
   "cell_type": "markdown",
   "id": "b68248b2",
   "metadata": {},
   "source": [
    "**Slicing**"
   ]
  },
  {
   "cell_type": "markdown",
   "id": "d18c90ec",
   "metadata": {},
   "source": [
    "Elements are sliced from start to end-1."
   ]
  },
  {
   "cell_type": "markdown",
   "id": "ef2474c7",
   "metadata": {},
   "source": [
    "Get first 3 elements"
   ]
  },
  {
   "cell_type": "code",
   "execution_count": 38,
   "id": "b01e93ad",
   "metadata": {},
   "outputs": [
    {
     "data": {
      "text/plain": [
       "['United States', 'India', 'China']"
      ]
     },
     "execution_count": 38,
     "metadata": {},
     "output_type": "execute_result"
    }
   ],
   "source": [
    "countries[0:3]"
   ]
  },
  {
   "cell_type": "code",
   "execution_count": 39,
   "id": "fe24b8fa",
   "metadata": {},
   "outputs": [
    {
     "data": {
      "text/plain": [
       "['United States', 'India', 'China']"
      ]
     },
     "execution_count": 39,
     "metadata": {},
     "output_type": "execute_result"
    }
   ],
   "source": [
    "countries[:3]"
   ]
  },
  {
   "cell_type": "markdown",
   "id": "da7d3965",
   "metadata": {},
   "source": [
    "Get last 3 elements"
   ]
  },
  {
   "cell_type": "code",
   "execution_count": 36,
   "id": "2fb61d71",
   "metadata": {},
   "outputs": [
    {
     "data": {
      "text/plain": [
       "['India', 'China', 'Brazil']"
      ]
     },
     "execution_count": 36,
     "metadata": {},
     "output_type": "execute_result"
    }
   ],
   "source": [
    "countries[1:4]"
   ]
  },
  {
   "cell_type": "code",
   "execution_count": 37,
   "id": "e950285d",
   "metadata": {},
   "outputs": [
    {
     "data": {
      "text/plain": [
       "['India', 'China', 'Brazil']"
      ]
     },
     "execution_count": 37,
     "metadata": {},
     "output_type": "execute_result"
    }
   ],
   "source": [
    "countries[1:]"
   ]
  },
  {
   "cell_type": "markdown",
   "id": "7b9b2a16",
   "metadata": {},
   "source": [
    "**Add elements to list**"
   ]
  },
  {
   "cell_type": "code",
   "execution_count": 40,
   "id": "0d028ee8",
   "metadata": {},
   "outputs": [],
   "source": [
    "countries.append('Canada')"
   ]
  },
  {
   "cell_type": "code",
   "execution_count": 41,
   "id": "b767ea1e",
   "metadata": {},
   "outputs": [
    {
     "data": {
      "text/plain": [
       "['United States', 'India', 'China', 'Brazil', 'Canada']"
      ]
     },
     "execution_count": 41,
     "metadata": {},
     "output_type": "execute_result"
    }
   ],
   "source": [
    "countries"
   ]
  },
  {
   "cell_type": "code",
   "execution_count": 42,
   "id": "09ff6e01",
   "metadata": {},
   "outputs": [],
   "source": [
    "countries.insert(0,'Spain')"
   ]
  },
  {
   "cell_type": "code",
   "execution_count": 43,
   "id": "13e79c42",
   "metadata": {},
   "outputs": [
    {
     "data": {
      "text/plain": [
       "['Spain', 'United States', 'India', 'China', 'Brazil', 'Canada']"
      ]
     },
     "execution_count": 43,
     "metadata": {},
     "output_type": "execute_result"
    }
   ],
   "source": [
    "countries"
   ]
  },
  {
   "cell_type": "code",
   "execution_count": 44,
   "id": "7c669993",
   "metadata": {},
   "outputs": [],
   "source": [
    "countries_2 = ['UK','Germany','Australia']"
   ]
  },
  {
   "cell_type": "code",
   "execution_count": 45,
   "id": "b897c135",
   "metadata": {},
   "outputs": [
    {
     "data": {
      "text/plain": [
       "['Spain',\n",
       " 'United States',\n",
       " 'India',\n",
       " 'China',\n",
       " 'Brazil',\n",
       " 'Canada',\n",
       " 'UK',\n",
       " 'Germany',\n",
       " 'Australia']"
      ]
     },
     "execution_count": 45,
     "metadata": {},
     "output_type": "execute_result"
    }
   ],
   "source": [
    "countries + countries_2"
   ]
  },
  {
   "cell_type": "code",
   "execution_count": 46,
   "id": "3d4a2327",
   "metadata": {},
   "outputs": [],
   "source": [
    "nested_list = [countries, countries_2]"
   ]
  },
  {
   "cell_type": "code",
   "execution_count": 47,
   "id": "8e0f3e33",
   "metadata": {},
   "outputs": [
    {
     "data": {
      "text/plain": [
       "[['Spain', 'United States', 'India', 'China', 'Brazil', 'Canada'],\n",
       " ['UK', 'Germany', 'Australia']]"
      ]
     },
     "execution_count": 47,
     "metadata": {},
     "output_type": "execute_result"
    }
   ],
   "source": [
    "nested_list"
   ]
  },
  {
   "cell_type": "code",
   "execution_count": null,
   "id": "3efbe561",
   "metadata": {},
   "outputs": [],
   "source": []
  }
 ],
 "metadata": {
  "kernelspec": {
   "display_name": ".conda",
   "language": "python",
   "name": "python3"
  },
  "language_info": {
   "codemirror_mode": {
    "name": "ipython",
    "version": 3
   },
   "file_extension": ".py",
   "mimetype": "text/x-python",
   "name": "python",
   "nbconvert_exporter": "python",
   "pygments_lexer": "ipython3",
   "version": "3.10.18"
  }
 },
 "nbformat": 4,
 "nbformat_minor": 5
}
